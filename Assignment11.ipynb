{
  "nbformat": 4,
  "nbformat_minor": 0,
  "metadata": {
    "anaconda-cloud": {},
    "kernelspec": {
      "display_name": "Python 3",
      "language": "python",
      "name": "python3"
    },
    "language_info": {
      "codemirror_mode": {
        "name": "ipython",
        "version": 3
      },
      "file_extension": ".py",
      "mimetype": "text/x-python",
      "name": "python",
      "nbconvert_exporter": "python",
      "pygments_lexer": "ipython3",
      "version": "3.6.10"
    },
    "colab": {
      "provenance": [],
      "collapsed_sections": [
        "lKd3wCEI013u"
      ]
    }
  },
  "cells": [
    {
      "cell_type": "markdown",
      "metadata": {
        "id": "tzjhqnzt010g"
      },
      "source": [
        "# Natural Language Processing\n",
        "\n",
        "Welcome to your natural language processing programming assignment. In this notebook, you will implement a model that classifies the sentiments into positive or negative. You will be able to train the RNN on IMDB dataset.\n",
        "You will learn to:\n",
        "Apply an RNN to train on natural language.\n",
        "Classify the sentiments based on the model trained.\n",
        "\n",
        "\n",
        "This lab exercise is about a basic form of Natural Language Processing (NLP) called Sentiment Analysis, in which we will try and classify a movie review as either positive or negative.\n",
        "\n",
        "Consider a simple example: \"This movie is not very good.\" This text ends with the words \"very good\" which indicates a very positive sentiment, but it is negated because it is preceded by the word \"not\", so the text should be classified as having a negative sentiment. How can we teach a Neural Network to do this classification?\n",
        "\n",
        "Another problem is that neural networks cannot work directly on text-data, so we need to convert text into numbers that are compatible with a neural network.\n",
        "\n",
        "Yet another problem is that a text may be arbitrarily long. Now we need a type of neural network that can work on both short and long sequences of text.\n"
      ]
    },
    {
      "cell_type": "markdown",
      "metadata": {
        "id": "fPIZ9XP5cKuM"
      },
      "source": [
        "## Recommended Reading\n",
        "\n",
        "- NLP with python - [Tutorial](https://medium.com/towards-artificial-intelligence/natural-language-processing-nlp-with-python-tutorial-for-beginners-1f54e610a1a0)\n",
        "- What Is NLP & [How Does it Work?](https://monkeylearn.com/natural-language-processing/)\n",
        "- Sentiment Analysis (Opinion Mining) with Python — [NLP Tutorial](https://medium.com/towards-artificial-intelligence/sentiment-analysis-opinion-mining-with-python-nlp-tutorial-d1f173ca4e3c)\n",
        "- Sequence Models [Notes](https://github.com/mbadry1/DeepLearning.ai-Summary/tree/master/5-%20Sequence%20Models#natural-language-processing--word-embeddings)\n",
        "- [Machine translation with python](https://towardsdatascience.com/neural-machine-translation-with-python-c2f0a34f7dd)\n",
        "\n",
        "### NLP libraries\n",
        "- [NLTK library](https://www.nltk.org)\n",
        "- [spacy](https://spacy.io/)\n",
        "- [gensim](https://pypi.org/project/gensim/)\n",
        "- [pattern](https://github.com/clips/pattern)\n",
        "- [textblob](https://textblob.readthedocs.io/en/dev/)\n"
      ]
    },
    {
      "cell_type": "markdown",
      "metadata": {
        "id": "-HLvM-nUml0o"
      },
      "source": [
        "Let's get started\n",
        "\n",
        "First of all, mount google drive.\n",
        "This will mount the google drive for google colab and you will be able access contents of your drive."
      ]
    },
    {
      "cell_type": "code",
      "metadata": {
        "id": "BAFwhMTQVFNb"
      },
      "source": [
        "from google.colab import drive\n",
        "drive.mount('/content/drive')\n",
        "\n",
        "\n",
        "import os\n",
        "os.chdir('/content/drive/My Drive/Deep_learning_unit/Assignment11')\n",
        "folder = os.path.join('/content/drive/My Drive/Deep_learning_unit/Assignment11')\n",
        "!ls"
      ],
      "execution_count": null,
      "outputs": []
    },
    {
      "cell_type": "markdown",
      "metadata": {
        "id": "9vQnnzeS010-"
      },
      "source": [
        "## 1 - Sentiment Analysis\n",
        "\n",
        "We need several processing steps for sentiment analysis. First we need to convert the raw text-words into so-called tokens which are integer values. These tokens are really just indices into a list of the entire vocabulary. Then we convert these integer-tokens into so-called embeddings which are real-valued vectors, whose mapping will be trained along with the neural network, so as to map words with similar meanings to similar embedding-vectors. Then we input these embedding-vectors to a Recurrent Neural Network which can take sequences of arbitrary length as input and output a kind of summary of what it has seen in the input. This output is then squashed using a Sigmoid-function to give us a value between 0.0 and 1.0, where 0.0 is taken to mean a negative sentiment and 1.0 means a positive sentiment. This whole process allows us to classify input-text as either having a negative or positive sentiment.\n",
        "\n",
        "The flowchart of the algorithm is given below:"
      ]
    },
    {
      "cell_type": "code",
      "metadata": {
        "id": "jfVxvSqMiE3E"
      },
      "source": [
        "from IPython.display import Image \n",
        "Image(open('/content/drive/My Drive/Deep_learning_unit/Assignment11/images/flowchart.png','rb').read())"
      ],
      "execution_count": null,
      "outputs": []
    },
    {
      "cell_type": "markdown",
      "metadata": {
        "id": "Efn1q5yr011A"
      },
      "source": [
        "## 2 - Recurrent Neural Network\n",
        "\n",
        "The basic building block in a Recurrent Neural Network (RNN) is a Recurrent Unit (RU). There are many different variants of recurrent units such as the rather clunky LSTM (Long-Short-Term-Memory) and the somewhat simpler GRU (Gated Recurrent Unit) which we will use in this tutorial. Experiments in the literature suggest that the LSTM and GRU have roughly similar performance. Even simpler variants also exist and the literature suggests that they may perform even better than both LSTM and GRU, but they are not implemented in Keras which we will use in this tutorial.\n",
        "\n",
        "The following figure shows the abstract idea of a recurrent unit, which has an internal state that is being updated every time the unit receives a new input. This internal state serves as a kind of memory. However, it is not a traditional kind of computer memory which stores bits that are either on or off. Instead the recurrent unit stores floating-point values in its memory-state, which are read and written using matrix-operations so the operations are all differentiable. This means the memory-state can store arbitrary floating-point values (although typically limited between -1.0 and 1.0) and the network can be trained like a normal neural network using Gradient Descent.\n",
        "\n",
        "The new state-value depends on both the old state-value and the current input. For example, if the state-value has memorized that we have recently seen the word \"not\" and the current input is \"good\" then we need to store a new state-value that memorizes \"not good\" which indicates a negative sentiment.\n",
        "\n",
        "The part of the recurrent unit that is responsible for mapping old state-values and inputs to the new state-value is called a gate, but it is really just a type of matrix-operation. There is another gate for calculating the output-values of the recurrent unit. The implementation of these gates vary for different types of recurrent units. This figure merely shows the abstract idea of a recurrent unit. The LSTM has more gates than the GRU but some of them are apparently redundant so they can be omitted.\n",
        "\n",
        "In order to train the recurrent unit, we must gradually change the weight-matrices of the gates so the recurrent unit gives the desired output for an input sequence. This is done automatically in TensorFlow."
      ]
    },
    {
      "cell_type": "code",
      "metadata": {
        "id": "UzUhsdg5ikXM"
      },
      "source": [
        "from IPython.display import Image \n",
        "Image(open('/content/drive/My Drive/Deep_learning_unit/Assignment11/images/RNN.png','rb').read())"
      ],
      "execution_count": null,
      "outputs": []
    },
    {
      "cell_type": "markdown",
      "metadata": {
        "id": "JyOVzgt0011A"
      },
      "source": [
        "### 2.1 - Unrolled Network\n",
        "\n",
        "Another way to visualize and understand a Recurrent Neural Network is to \"unroll\" the recursion. In this figure there is only a single recurrent unit denoted RU, which will receive a text-word from the input sequence in a series of time-steps.\n",
        "\n",
        "The initial memory-state of the RU is reset to zero internally by Keras / TensorFlow every time a new sequence begins.\n",
        "\n",
        "In the first time-step the word \"this\" is input to the RU which uses its internal state (initialized to zero) and its gate to calculate the new state. The RU also uses its other gate to calculate the output but it is ignored here because it is only needed at the end of the sequence to output a kind of summary.\n",
        "\n",
        "In the second time-step the word \"is\" is input to the RU which now uses the internal state that was just updated from seeing the previous word \"this\".\n",
        "\n",
        "There is not much meaning in the words \"this is\" so the RU probably doesn't save anything important in its internal state from seeing these words. But when it sees the third word \"not\" the RU has learned that it may be important for determining the overall sentiment of the input-text, so it needs to be stored in the memory-state of the RU, which can be used later when the RU sees the word \"good\" in time-step 6.\n",
        "\n",
        "Finally when the entire sequence has been processed, the RU outputs a vector of values that summarizes what it has seen in the input sequence. We then use a fully-connected layer with a Sigmoid activation to get a single value between 0.0 and 1.0 which we interpret as the sentiment either being negative (values close to 0.0) or positive (values close to 1.0).\n",
        "\n",
        "Note that for the sake of clarity, this figure doesn't show the mapping from text-words to integer-tokens and embedding-vectors, as well as the fully-connected Sigmoid layer on the output."
      ]
    },
    {
      "cell_type": "code",
      "metadata": {
        "id": "IXwZsJP9iyB7"
      },
      "source": [
        "from IPython.display import Image \n",
        "Image(open('/content/drive/My Drive/Deep_learning_unit/Assignment11/images/RNN1.png','rb').read())"
      ],
      "execution_count": null,
      "outputs": []
    },
    {
      "cell_type": "markdown",
      "metadata": {
        "id": "2uTS7vkc011B"
      },
      "source": [
        "### 2.2 - 3-Layer Unrolled Network\n",
        "\n",
        "In this tutorial we will use a Recurrent Neural Network with 3 recurrent units (or layers) denoted RU1, RU2 and RU3 in the \"unrolled\" figure below.\n",
        "\n",
        "The first layer is much like the unrolled figure above for a single-layer RNN. First the recurrent unit RU1 has its internal state initialized to zero by Keras / TensorFlow. Then the word \"this\" is input to RU1 and it updates its internal state. Then it processes the next word \"is\", and so forth. But instead of outputting a single summary value at the end of the sequence, we use the output of RU1 for every time-step. This creates a new sequence that can then be used as input for the next recurrent unit RU2. The same process is repeated for the second layer and this creates a new output sequence which is then input to the third layer's recurrent unit RU3, whose final output is passed to a fully-connected Sigmoid layer that outputs a value between 0.0 (negative sentiment) and 1.0 (positive sentiment).\n",
        "\n",
        "Note that for the sake of clarity, the mapping of text-words to integer-tokens and embedding-vectors has been omitted from this figure."
      ]
    },
    {
      "cell_type": "code",
      "metadata": {
        "id": "_-_sJU_vluEl"
      },
      "source": [
        "from IPython.display import Image \n",
        "Image(open('/content/drive/My Drive/Deep_learning_unit/Assignment11/images/RNN2.png','rb').read())"
      ],
      "execution_count": null,
      "outputs": []
    },
    {
      "cell_type": "markdown",
      "metadata": {
        "id": "O-EAWp82011C"
      },
      "source": [
        "### 2.3 - Exploding & Vanishing Gradients\n",
        "\n",
        "In order to train the weights for the gates inside the recurrent unit, we need to minimize some loss-function which measures the difference between the actual output of the network relative to the desired output.\n",
        "\n",
        "From the \"unrolled\" figures above we see that the reccurent units are applied recursively for each word in the input sequence. This means the recurrent gate is applied once for each time-step. The gradient-signals have to flow back from the loss-function all the way to the first time the recurrent gate is used. If the gradient of the recurrent gate is multiplicative, then we essentially have an exponential function.\n",
        "\n",
        "In this exercise, we will use texts that have more than 500 words. This means the RU's gate for updating its internal memory-state is applied recursively more than 500 times. If a gradient of just 1.01 is multiplied with itself 500 times then it gives a value of about 145. If a gradient of just 0.99 is multiplied with itself 500 times then it gives a value of about 0.007. These are called exploding and vanishing gradients. The only gradients that can survive recurrent multiplication are 0 and 1.\n",
        "\n",
        "To avoid these so-called exploding and vanishing gradients, care must be made when designing the recurrent unit and its gates. That is why the actual implementation of the GRU is more complicated, because it tries to send the gradient back through the gates without this distortion."
      ]
    },
    {
      "cell_type": "markdown",
      "metadata": {
        "id": "iQMQj5Tl011D"
      },
      "source": [
        "## 3 - Imports\n",
        "\n",
        "First, let's run the cell below to import all the packages that you will need during this exercise.\n",
        "\n",
        "Run the following cell to load the packages and dependencies that you will find useful as you build the sentiment classifier!  We need to import several things from Keras."
      ]
    },
    {
      "cell_type": "code",
      "metadata": {
        "id": "RQSsyKg3011Q"
      },
      "source": [
        "%matplotlib inline\n",
        "import matplotlib.pyplot as plt\n",
        "import tensorflow as tf\n",
        "import numpy as np\n",
        "import pandas as pd\n",
        "from scipy.spatial.distance import cdist\n",
        "from tensorflow.keras.models import Sequential\n",
        "from tensorflow.keras.layers import Dense, GRU, Embedding\n",
        "from tensorflow.keras.optimizers import Adam\n",
        "from tensorflow.keras.preprocessing.text import Tokenizer\n",
        "from tensorflow.keras.preprocessing.sequence import pad_sequences"
      ],
      "execution_count": null,
      "outputs": []
    },
    {
      "cell_type": "markdown",
      "metadata": {
        "id": "W0QR8nF_011r"
      },
      "source": [
        "## 4 - Dataset\n",
        "\n",
        "We will use a data-set consisting of 50000 reviews of movies from IMDB. Keras has a built-in function for downloading a similar data-set (but apparently half the size). However, Keras' version has already converted the text in the data-set to integer-tokens, which is a crucial part of working with natural languages that will also be demonstrated in this tutorial, so we use the donloaded dataset from Kaggle.\n",
        "\n"
      ]
    },
    {
      "cell_type": "code",
      "metadata": {
        "id": "mPZTIR-x011r"
      },
      "source": [
        "df = pd.DataFrame()\n",
        "df = pd.read_csv('IMDB Dataset.csv', encoding='utf-8')\n",
        "df.head(3)"
      ],
      "execution_count": null,
      "outputs": []
    },
    {
      "cell_type": "markdown",
      "source": [
        "Now convert the class labels into integers."
      ],
      "metadata": {
        "id": "7pIQ7rjZ3BJN"
      }
    },
    {
      "cell_type": "code",
      "metadata": {
        "id": "RDsk3N88011s"
      },
      "source": [
        "from sklearn.preprocessing import LabelEncoder\n",
        " \n",
        "# Creating a instance of label Encoder.\n",
        "le = LabelEncoder()\n",
        " \n",
        "# Using .fit_transform function to fit label\n",
        "# encoder and return encoded label\n",
        "label = le.fit_transform(df['sentiment'])\n",
        " \n",
        "# printing label\n",
        "label"
      ],
      "execution_count": null,
      "outputs": []
    },
    {
      "cell_type": "code",
      "source": [
        "df.drop(\"sentiment\", axis=1, inplace=True)\n",
        " \n",
        "# Appending the array to our dataFrame\n",
        "# with column name 'Purchased'\n",
        "df[\"sentiment\"] = label\n",
        " \n",
        "# printing Dataframe\n",
        "df"
      ],
      "metadata": {
        "id": "sXrnFL1K227_"
      },
      "execution_count": null,
      "outputs": []
    },
    {
      "cell_type": "markdown",
      "metadata": {
        "id": "aEGZtumY011t"
      },
      "source": [
        "Load the training- and test-sets."
      ]
    },
    {
      "cell_type": "code",
      "source": [
        "x_train_text = df.loc[:24999, 'review'].values\n",
        "y_train = df.loc[:24999, 'sentiment'].values\n",
        "x_test_text = df.loc[25000:, 'review'].values\n",
        "y_test = df.loc[25000:, 'sentiment'].values"
      ],
      "metadata": {
        "id": "pQH38Dis3Hi0"
      },
      "execution_count": null,
      "outputs": []
    },
    {
      "cell_type": "code",
      "metadata": {
        "id": "zZf-s8OJ011t"
      },
      "source": [
        "# Convert to numpy arrays.\n",
        "y_train = np.array(y_train)\n",
        "y_test = np.array(y_test)"
      ],
      "execution_count": null,
      "outputs": []
    },
    {
      "cell_type": "code",
      "metadata": {
        "id": "UObYn7uy011v"
      },
      "source": [
        "print(\"Train-set size: \", len(x_train_text))\n",
        "print(\"Test-set size:  \", len(x_test_text))"
      ],
      "execution_count": null,
      "outputs": []
    },
    {
      "cell_type": "markdown",
      "metadata": {
        "id": "fImJtdW9011v"
      },
      "source": [
        "Combine into one data-set for some uses below."
      ]
    },
    {
      "cell_type": "code",
      "metadata": {
        "id": "XX5HDp2J011x"
      },
      "source": [
        "data_text = x_train_text + x_test_text"
      ],
      "execution_count": null,
      "outputs": []
    },
    {
      "cell_type": "markdown",
      "metadata": {
        "id": "-UbA8hdz011y"
      },
      "source": [
        "Print an example from the training-set to see that the data looks correct."
      ]
    },
    {
      "cell_type": "code",
      "metadata": {
        "id": "WANTeg6G011z"
      },
      "source": [
        "# Print the first example from training set\n",
        "### START CODE HERE ### \n",
        "\n",
        "### END CODE HERE ###"
      ],
      "execution_count": null,
      "outputs": []
    },
    {
      "cell_type": "markdown",
      "metadata": {
        "id": "2y-BuGrx0110"
      },
      "source": [
        "The true \"class\" is a sentiment of the movie-review. It is a value of 0.0 for a negative sentiment and 1.0 for a positive sentiment. Check if the sentiment for the above example is postive or negative."
      ]
    },
    {
      "cell_type": "code",
      "metadata": {
        "id": "9UMjLiPh0110"
      },
      "source": [
        "### START CODE HERE ### \n",
        "\n",
        "### END CODE HERE ###"
      ],
      "execution_count": null,
      "outputs": []
    },
    {
      "cell_type": "markdown",
      "metadata": {
        "id": "li1-kw0w0112"
      },
      "source": [
        "## 5 - Data Pre-processing\n",
        "\n",
        "### 5.1 - Tokenizer\n",
        "\n",
        "A neural network cannot work directly on text-strings so we must convert it somehow. There are two steps in this conversion, the first step is called the \"tokenizer\" which converts words to integers and is done on the data-set before it is input to the neural network. The second step is an integrated part of the neural network itself and is called the \"embedding\"-layer, which is described further below.\n",
        "\n",
        "We may instruct the tokenizer to only use e.g. the 10000 most popular words from the data-set. Call the function ***Tokenizer*** with the parameter as ***num_words***."
      ]
    },
    {
      "cell_type": "code",
      "metadata": {
        "id": "8KSf6oIC0113"
      },
      "source": [
        "num_words = 10000"
      ],
      "execution_count": null,
      "outputs": []
    },
    {
      "cell_type": "code",
      "metadata": {
        "scrolled": true,
        "id": "SX1QJkUD0114"
      },
      "source": [
        "### START CODE HERE ### \n",
        "tokenizer = \n",
        "### END CODE HERE ###"
      ],
      "execution_count": null,
      "outputs": []
    },
    {
      "cell_type": "markdown",
      "metadata": {
        "id": "yYIWSSIk0114"
      },
      "source": [
        "The tokenizer can then be \"fitted\" to the data-set. This scans through all the text and strips it from unwanted characters such as punctuation, and also converts it to lower-case characters. The tokenizer then builds a vocabulary of all unique words along with various data-structures for accessing the data.\n",
        "\n",
        "Note that we fit the tokenizer on the entire data-set so it gathers words from both the training- and test-data. This is OK as we are merely building a vocabulary and want it to be as complete as possible. The actual neural network will of course only be trained on the training-set.\n",
        "\n",
        "Use `tokenizer.fit_on_texts` on whole data set"
      ]
    },
    {
      "cell_type": "code",
      "metadata": {
        "id": "8db0QHPQ0114"
      },
      "source": [
        "### START CODE HERE ###\n",
        "\n",
        "### END CODE HERE ###"
      ],
      "execution_count": null,
      "outputs": []
    },
    {
      "cell_type": "markdown",
      "metadata": {
        "id": "oitqCkwA0115"
      },
      "source": [
        "If you want to use the entire vocabulary then set `num_words=None` above, and then it will automatically be set to the vocabulary-size here. (This is because of Keras' somewhat awkward implementation.)"
      ]
    },
    {
      "cell_type": "code",
      "metadata": {
        "id": "nvT2HVFz0116"
      },
      "source": [
        "if num_words is None:\n",
        "    num_words = len(tokenizer.word_index)\n",
        "print(len(tokenizer.word_index))"
      ],
      "execution_count": null,
      "outputs": []
    },
    {
      "cell_type": "markdown",
      "metadata": {
        "id": "E4D75IZ10116"
      },
      "source": [
        "We can then inspect the vocabulary that has been gathered by the tokenizer. This is ordered by the number of occurrences of the words in the data-set. These integer-numbers are called word indices or \"tokens\" because they uniquely identify each word in the vocabulary."
      ]
    },
    {
      "cell_type": "code",
      "metadata": {
        "id": "0wpgQFKi011_"
      },
      "source": [
        "tokenizer.word_index"
      ],
      "execution_count": null,
      "outputs": []
    },
    {
      "cell_type": "markdown",
      "metadata": {
        "id": "A_XPWt8H011_"
      },
      "source": [
        "We can then use the tokenizer to convert all texts in the training-set to lists of these tokens."
      ]
    },
    {
      "cell_type": "code",
      "metadata": {
        "id": "CsHzaZkv012A"
      },
      "source": [
        "### START CODE HERE ###\n",
        "\n",
        "# Use tokenizer.texts_to_sequences function on training set\n",
        "x_train_tokens = \n",
        "### END CODE HERE ###"
      ],
      "execution_count": null,
      "outputs": []
    },
    {
      "cell_type": "markdown",
      "metadata": {
        "id": "m46e-UeC012A"
      },
      "source": [
        "For example, here is a text from the training-set:"
      ]
    },
    {
      "cell_type": "code",
      "metadata": {
        "id": "5agZbSiY012A"
      },
      "source": [
        "x_train_text[0]"
      ],
      "execution_count": null,
      "outputs": []
    },
    {
      "cell_type": "markdown",
      "metadata": {
        "id": "D_TFf9_G012B"
      },
      "source": [
        "This text corresponds to the following list of tokens:"
      ]
    },
    {
      "cell_type": "code",
      "metadata": {
        "id": "oJWl77X4012B"
      },
      "source": [
        "np.array(x_train_tokens[0])"
      ],
      "execution_count": null,
      "outputs": []
    },
    {
      "cell_type": "markdown",
      "metadata": {
        "id": "p4oVwbyr012C"
      },
      "source": [
        "We also need to convert the texts in the test-set to tokens. Similarly do it for test data."
      ]
    },
    {
      "cell_type": "code",
      "metadata": {
        "id": "Lfg9hlnw012D"
      },
      "source": [
        "### START CODE HERE ###\n",
        "x_test_tokens = \n",
        "### END CODE HERE ###"
      ],
      "execution_count": null,
      "outputs": []
    },
    {
      "cell_type": "markdown",
      "metadata": {
        "id": "ROGeIkt2012E"
      },
      "source": [
        "### 5.2 - Padding and Truncating Data\n",
        "\n",
        "The Recurrent Neural Network can take sequences of arbitrary length as input, but in order to use a whole batch of data, the sequences need to have the same length. There are two ways of achieving this: (A) Either we ensure that all sequences in the entire data-set have the same length, or (B) we write a custom data-generator that ensures the sequences have the same length within each batch.\n",
        "\n",
        "Solution (A) is simpler but if we use the length of the longest sequence in the data-set, then we are wasting a lot of memory. This is particularly important for larger data-sets.\n",
        "\n",
        "So in order to make a compromise, we will use a sequence-length that covers most sequences in the data-set, and we will then truncate longer sequences and pad shorter sequences.\n",
        "\n",
        "First we count the number of tokens in all the sequences in the data-set."
      ]
    },
    {
      "cell_type": "code",
      "metadata": {
        "id": "RnUjImt9012F"
      },
      "source": [
        "num_tokens = [len(tokens) for tokens in x_train_tokens + x_test_tokens]\n",
        "num_tokens = np.array(num_tokens)"
      ],
      "execution_count": null,
      "outputs": []
    },
    {
      "cell_type": "markdown",
      "metadata": {
        "id": "nY_nu5_w012F"
      },
      "source": [
        "The average number of tokens in a sequence is:"
      ]
    },
    {
      "cell_type": "code",
      "metadata": {
        "id": "AvhEZzv3012G"
      },
      "source": [
        "### START CODE HERE ###\n",
        "\n",
        "# Use np.mean\n",
        "\n",
        "### END CODE HERE ###\n"
      ],
      "execution_count": null,
      "outputs": []
    },
    {
      "cell_type": "markdown",
      "metadata": {
        "id": "n0bLGtvY012G"
      },
      "source": [
        "The maximum number of tokens in a sequence is:"
      ]
    },
    {
      "cell_type": "code",
      "metadata": {
        "id": "uGwvTHL9012G"
      },
      "source": [
        "### START CODE HERE ###\n",
        "\n",
        "### END CODE HERE ###\n"
      ],
      "execution_count": null,
      "outputs": []
    },
    {
      "cell_type": "markdown",
      "metadata": {
        "id": "0q2nRNC3012G"
      },
      "source": [
        "The max number of tokens we will allow is set to the average plus 2 standard deviations."
      ]
    },
    {
      "cell_type": "code",
      "metadata": {
        "id": "GTXCsS7r012H"
      },
      "source": [
        "### START CODE HERE ###\n",
        "max_tokens = \n",
        "### END CODE HERE ###\n",
        "\n",
        "\n",
        "max_tokens = int(max_tokens)\n",
        "max_tokens"
      ],
      "execution_count": null,
      "outputs": []
    },
    {
      "cell_type": "markdown",
      "metadata": {
        "id": "pcezk5fo012I"
      },
      "source": [
        "This covers about 95% of the data-set."
      ]
    },
    {
      "cell_type": "code",
      "metadata": {
        "id": "pc6BmJjr012I"
      },
      "source": [
        "np.sum(num_tokens < max_tokens) / len(num_tokens)"
      ],
      "execution_count": null,
      "outputs": []
    },
    {
      "cell_type": "markdown",
      "metadata": {
        "id": "RGM5eXda012J"
      },
      "source": [
        "When padding or truncating the sequences that have a different length, we need to determine if we want to do this padding or truncating 'pre' or 'post'. If a sequence is truncated, it means that a part of the sequence is simply thrown away. If a sequence is padded, it means that zeros are added to the sequence.\n",
        "\n",
        "So the choice of 'pre' or 'post' can be important because it determines whether we throw away the first or last part of a sequence when truncating, and it determines whether we add zeros to the beginning or end of the sequence when padding. This may confuse the Recurrent Neural Network.\n",
        "\n",
        "Use `pad_sequences` function with parameters as input, `maxlen`, `padding`, `truncating`\n"
      ]
    },
    {
      "cell_type": "code",
      "metadata": {
        "id": "mlgVu4cI012J"
      },
      "source": [
        "pad = 'pre'"
      ],
      "execution_count": null,
      "outputs": []
    },
    {
      "cell_type": "code",
      "metadata": {
        "id": "6AnlZuUI012J"
      },
      "source": [
        "### START CODE HERE ###\n",
        "x_train_pad = \n",
        "### END CODE HERE ###\n"
      ],
      "execution_count": null,
      "outputs": []
    },
    {
      "cell_type": "code",
      "metadata": {
        "id": "bkCWYW84012W"
      },
      "source": [
        "\n",
        "### START CODE HERE ###\n",
        "x_test_pad = \n",
        "### END CODE HERE ###\n"
      ],
      "execution_count": null,
      "outputs": []
    },
    {
      "cell_type": "markdown",
      "metadata": {
        "id": "g9wtdPNw012h"
      },
      "source": [
        "We have now transformed the training-set into one big matrix of integers (tokens) with this shape:"
      ]
    },
    {
      "cell_type": "code",
      "metadata": {
        "id": "Z5Fq0Kno012k"
      },
      "source": [
        "x_train_pad.shape"
      ],
      "execution_count": null,
      "outputs": []
    },
    {
      "cell_type": "markdown",
      "metadata": {
        "id": "Ia-w91F0012w"
      },
      "source": [
        "The matrix for the test-set has the same shape:"
      ]
    },
    {
      "cell_type": "code",
      "metadata": {
        "scrolled": true,
        "id": "TiqtSd-P013A"
      },
      "source": [
        "x_test_pad.shape"
      ],
      "execution_count": null,
      "outputs": []
    },
    {
      "cell_type": "markdown",
      "metadata": {
        "id": "zj64JtXy013C"
      },
      "source": [
        "For example, we had the following sequence of tokens above:"
      ]
    },
    {
      "cell_type": "code",
      "metadata": {
        "id": "iuuTIxuZ013D"
      },
      "source": [
        "np.array(x_train_tokens[0])"
      ],
      "execution_count": null,
      "outputs": []
    },
    {
      "cell_type": "markdown",
      "metadata": {
        "id": "XvGdxKv1013D"
      },
      "source": [
        "This has simply been padded to create the following sequence. Note that when this is input to the Recurrent Neural Network, then it first inputs a lot of zeros. If we had padded 'post' then it would input the integer-tokens first and then a lot of zeros. This may confuse the Recurrent Neural Network."
      ]
    },
    {
      "cell_type": "code",
      "metadata": {
        "id": "AJKzRoV6013D"
      },
      "source": [
        "x_train_pad[0]"
      ],
      "execution_count": null,
      "outputs": []
    },
    {
      "cell_type": "markdown",
      "metadata": {
        "id": "lJoRzlQp013E"
      },
      "source": [
        "### 5.3 Tokenizer Inverse Map\n",
        "\n",
        "For some strange reason, the Keras implementation of a tokenizer does not seem to have the inverse mapping from integer-tokens back to words, which is needed to reconstruct text-strings from lists of tokens. So we make that mapping here."
      ]
    },
    {
      "cell_type": "code",
      "metadata": {
        "id": "aYBK9mmF013E"
      },
      "source": [
        "idx = tokenizer.word_index\n",
        "inverse_map = dict(zip(idx.values(), idx.keys()))"
      ],
      "execution_count": null,
      "outputs": []
    },
    {
      "cell_type": "markdown",
      "metadata": {
        "id": "e4sS8NPm013E"
      },
      "source": [
        "Helper-function for converting a list of tokens back to a string of words."
      ]
    },
    {
      "cell_type": "code",
      "metadata": {
        "id": "cw9j0LR7013F"
      },
      "source": [
        "def tokens_to_string(tokens):\n",
        "    # Map from tokens back to words.\n",
        "    words = [inverse_map[token] for token in tokens if token != 0]\n",
        "    \n",
        "    # Concatenate all words.\n",
        "    text = \" \".join(words)\n",
        "\n",
        "    return text"
      ],
      "execution_count": null,
      "outputs": []
    },
    {
      "cell_type": "markdown",
      "metadata": {
        "id": "YzS86ljt013F"
      },
      "source": [
        "For example, this is the original text from the data-set:"
      ]
    },
    {
      "cell_type": "code",
      "metadata": {
        "scrolled": true,
        "id": "r8g6k0xE013F"
      },
      "source": [
        "x_train_text[0]"
      ],
      "execution_count": null,
      "outputs": []
    },
    {
      "cell_type": "markdown",
      "metadata": {
        "id": "JtNEa-m4013F"
      },
      "source": [
        "We can recreate this text except for punctuation and other symbols, by converting the list of tokens back to words:"
      ]
    },
    {
      "cell_type": "code",
      "metadata": {
        "id": "3y5KKVTi013G"
      },
      "source": [
        "tokens_to_string(x_train_tokens[0])"
      ],
      "execution_count": null,
      "outputs": []
    },
    {
      "cell_type": "markdown",
      "metadata": {
        "id": "1xLJyXLI013G"
      },
      "source": [
        "## 6 - Create the Recurrent Neural Network\n",
        "\n",
        "We are now ready to create the Recurrent Neural Network (RNN). We will use the Keras API for this because of its simplicity. "
      ]
    },
    {
      "cell_type": "code",
      "metadata": {
        "id": "9htUrMDH013H"
      },
      "source": [
        "model = Sequential()"
      ],
      "execution_count": null,
      "outputs": []
    },
    {
      "cell_type": "markdown",
      "metadata": {
        "id": "A4yK6Ej9013H"
      },
      "source": [
        "The first layer in the RNN is a so-called Embedding-layer which converts each integer-token into a vector of values. This is necessary because the integer-tokens may take on values between 0 and 10000 for a vocabulary of 10000 words. The RNN cannot work on values in such a wide range. The embedding-layer is trained as a part of the RNN and will learn to map words with similar semantic meanings to similar embedding-vectors, as will be shown further below.\n",
        "\n",
        "First we define the size of the embedding-vector for each integer-token. In this case we have set it to 8, so that each integer-token will be converted to a vector of length 8. The values of the embedding-vector will generally fall roughly between -1.0 and 1.0, although they may exceed these values somewhat.\n",
        "\n",
        "The size of the embedding-vector is typically selected between 100-300, but it seems to work reasonably well with small values for Sentiment Analysis."
      ]
    },
    {
      "cell_type": "code",
      "metadata": {
        "id": "wOPJRW0-013H"
      },
      "source": [
        "embedding_size = 8"
      ],
      "execution_count": null,
      "outputs": []
    },
    {
      "cell_type": "markdown",
      "metadata": {
        "id": "2pY344A5013H"
      },
      "source": [
        "The embedding-layer also needs to know the number of words in the vocabulary (`num_words`) and the length of the padded token-sequences (`max_tokens`). We also give this layer a name because we need to retrieve its weights further below."
      ]
    },
    {
      "cell_type": "code",
      "metadata": {
        "id": "J_hveYC6013K"
      },
      "source": [
        "model.add(Embedding(input_dim=num_words,\n",
        "                    output_dim=embedding_size,\n",
        "                    input_length=max_tokens,\n",
        "                    name='layer_embedding'))"
      ],
      "execution_count": null,
      "outputs": []
    },
    {
      "cell_type": "markdown",
      "metadata": {
        "id": "9khvizvJ013K"
      },
      "source": [
        "We can now add the first Gated Recurrent Unit (GRU) to the network. This will have 16 outputs. Because we will add a second GRU after this one, we need to return sequences of data because the next GRU expects sequences as its input."
      ]
    },
    {
      "cell_type": "code",
      "metadata": {
        "id": "Ohu8uT4m013K"
      },
      "source": [
        "### START CODE HERE ###\n",
        "\n",
        "### END CODE HERE ###\n"
      ],
      "execution_count": null,
      "outputs": []
    },
    {
      "cell_type": "markdown",
      "metadata": {
        "id": "CDBDJ161013K"
      },
      "source": [
        "This adds the second GRU with 8 output units. This will be followed by another GRU so it must also return sequences."
      ]
    },
    {
      "cell_type": "code",
      "metadata": {
        "id": "_eaURYxE013L"
      },
      "source": [
        "### START CODE HERE ###\n",
        "\n",
        "### END CODE HERE ###\n"
      ],
      "execution_count": null,
      "outputs": []
    },
    {
      "cell_type": "markdown",
      "metadata": {
        "id": "q4vouTTb013L"
      },
      "source": [
        "This adds the third and final GRU with 4 output units. This will be followed by a dense-layer, so it should only give the final output of the GRU and not a whole sequence of outputs. Then, add a fully-connected / dense layer which computes a value between 0.0 and 1.0 that will be used as the classification output.\n",
        "\n",
        "**Note** Since it is a binary classification problem, so you have to use sigmoid activation function."
      ]
    },
    {
      "cell_type": "code",
      "metadata": {
        "id": "U5F3syxT013L"
      },
      "source": [
        "### START CODE HERE ###   ≈2 lines of code\n",
        "\n",
        "\n",
        "### END CODE HERE ###\n"
      ],
      "execution_count": null,
      "outputs": []
    },
    {
      "cell_type": "markdown",
      "metadata": {
        "id": "1qGtPqgi013N"
      },
      "source": [
        "Use the Adam optimizer with the given learning-rate."
      ]
    },
    {
      "cell_type": "code",
      "metadata": {
        "id": "xoju2og8013O"
      },
      "source": [
        "optimizer = Adam(lr=1e-3)"
      ],
      "execution_count": null,
      "outputs": []
    },
    {
      "cell_type": "markdown",
      "metadata": {
        "id": "QpitHBHM013O"
      },
      "source": [
        "Compile the Keras model so it is ready for training. Use `binary_crossentrop` loss function because it s a binary classification problem."
      ]
    },
    {
      "cell_type": "code",
      "metadata": {
        "id": "LOIT4CYg013O"
      },
      "source": [
        "### START CODE HERE ###\n",
        "\n",
        "### END CODE HERE ###"
      ],
      "execution_count": null,
      "outputs": []
    },
    {
      "cell_type": "code",
      "metadata": {
        "id": "BzQmCsey013O"
      },
      "source": [
        "model.summary()"
      ],
      "execution_count": null,
      "outputs": []
    },
    {
      "cell_type": "markdown",
      "metadata": {
        "id": "iCSgAYa4013O"
      },
      "source": [
        "### 6.1 - Train the Recurrent Neural Network\n",
        "\n",
        "We can now train the model. Note that we are using the data-set with the padded sequences. We use 5% of the training-set as a small validation-set, so we have a rough idea whether the model is generalizing well or if it is perhaps over-fitting to the training-set. Input is x_train_pad, output is y_train and the number of epochs are set as 3 and batch_size is 64."
      ]
    },
    {
      "cell_type": "code",
      "metadata": {
        "scrolled": true,
        "id": "1wzCmb3l013O"
      },
      "source": [
        "### START CODE HERE ###\n",
        "\n",
        "### END CODE HERE ###"
      ],
      "execution_count": null,
      "outputs": []
    },
    {
      "cell_type": "markdown",
      "metadata": {
        "id": "zHvfZ-4u013O"
      },
      "source": [
        "### 6.2 - Performance on Test-Set\n",
        "\n",
        "Now that the model has been trained we can calculate its classification accuracy on the test-set. Use `model_evaluate`function with input and output passed as parameters."
      ]
    },
    {
      "cell_type": "code",
      "metadata": {
        "id": "Bbxvz-_x013O"
      },
      "source": [
        "### START CODE HERE ###\n",
        "result = \n",
        "### END CODE HERE ###"
      ],
      "execution_count": null,
      "outputs": []
    },
    {
      "cell_type": "code",
      "metadata": {
        "scrolled": true,
        "id": "ALnI6fj4013P"
      },
      "source": [
        "print(\"Accuracy: {0:.2%}\".format(result[1]))"
      ],
      "execution_count": null,
      "outputs": []
    },
    {
      "cell_type": "markdown",
      "metadata": {
        "id": "5q2_PSi8013P"
      },
      "source": [
        "### 6.3 - Example of Mis-Classified Text\n",
        "\n",
        "In order to show an example of mis-classified text, we first calculate the predicted sentiment for the first 1000 texts in the test-set."
      ]
    },
    {
      "cell_type": "code",
      "metadata": {
        "id": "ZJC7qZh-013P"
      },
      "source": [
        "y_pred = model.predict(x=x_test_pad[0:1000])\n",
        "y_pred = y_pred.T[0]"
      ],
      "execution_count": null,
      "outputs": []
    },
    {
      "cell_type": "markdown",
      "metadata": {
        "id": "wZcQwzbY013Q"
      },
      "source": [
        "These predicted numbers fall between 0.0 and 1.0. We use a cutoff / threshold and say that all values above 0.5 are taken to be 1.0 and all values below 0.5 are taken to be 0.0. This gives us a predicted \"class\" of either 0.0 or 1.0."
      ]
    },
    {
      "cell_type": "code",
      "metadata": {
        "id": "8HV2_jCG013Q"
      },
      "source": [
        "cls_pred = np.array([1.0 if p>0.5 else 0.0 for p in y_pred])"
      ],
      "execution_count": null,
      "outputs": []
    },
    {
      "cell_type": "markdown",
      "metadata": {
        "id": "SNEyPWIp013Q"
      },
      "source": [
        "The true \"class\" for the first 1000 texts in the test-set are needed for comparison."
      ]
    },
    {
      "cell_type": "code",
      "metadata": {
        "id": "1K83PwCI013Q"
      },
      "source": [
        "cls_true = np.array(y_test[0:1000])"
      ],
      "execution_count": null,
      "outputs": []
    },
    {
      "cell_type": "markdown",
      "metadata": {
        "id": "IssfeflD013Q"
      },
      "source": [
        "We can then get indices for all the texts that were incorrectly classified by comparing all the \"classes\" of these two arrays."
      ]
    },
    {
      "cell_type": "code",
      "metadata": {
        "id": "uqwbxwON013Q"
      },
      "source": [
        "incorrect = np.where(cls_pred != cls_true)\n",
        "incorrect = incorrect[0]"
      ],
      "execution_count": null,
      "outputs": []
    },
    {
      "cell_type": "markdown",
      "metadata": {
        "id": "QqdZdSUN013Q"
      },
      "source": [
        "Of the 1000 texts used, how many were mis-classified?"
      ]
    },
    {
      "cell_type": "code",
      "metadata": {
        "id": "2uqpoj0l013Q"
      },
      "source": [
        "len(incorrect)"
      ],
      "execution_count": null,
      "outputs": []
    },
    {
      "cell_type": "markdown",
      "metadata": {
        "id": "gVaNq2g7013R"
      },
      "source": [
        "Let us look at the first mis-classified text. We will use its index several times."
      ]
    },
    {
      "cell_type": "code",
      "metadata": {
        "id": "mANF3nP9013R"
      },
      "source": [
        "idx = incorrect[0]\n",
        "idx"
      ],
      "execution_count": null,
      "outputs": []
    },
    {
      "cell_type": "markdown",
      "metadata": {
        "id": "lrDg3Na-013R"
      },
      "source": [
        "The mis-classified text is:"
      ]
    },
    {
      "cell_type": "code",
      "metadata": {
        "id": "Of6tIr-h013R"
      },
      "source": [
        "text = x_test_text[idx]\n",
        "text"
      ],
      "execution_count": null,
      "outputs": []
    },
    {
      "cell_type": "markdown",
      "metadata": {
        "id": "bW3LBDyE013S"
      },
      "source": [
        "These are the predicted and true classes for the text:"
      ]
    },
    {
      "cell_type": "code",
      "metadata": {
        "id": "nm71gX3V013S"
      },
      "source": [
        "y_pred[idx]"
      ],
      "execution_count": null,
      "outputs": []
    },
    {
      "cell_type": "code",
      "metadata": {
        "id": "R3dcLBzx013T"
      },
      "source": [
        "cls_true[idx]"
      ],
      "execution_count": null,
      "outputs": []
    },
    {
      "cell_type": "markdown",
      "metadata": {
        "id": "NM2xWnW_013U"
      },
      "source": [
        "## 7 - New Data\n",
        "\n",
        "Let us try and classify new texts that we make up. Some of these are obvious, while others use negation and sarcasm to try and confuse the model into mis-classifying the text."
      ]
    },
    {
      "cell_type": "code",
      "metadata": {
        "id": "FH6TbALq013V"
      },
      "source": [
        "text1 = \"This movie is fantastic! I really like it because it is so good!\"\n",
        "text2 = \"Good movie!\"\n",
        "text3 = \"Maybe I like this movie.\"\n",
        "text4 = \"Meh ...\"\n",
        "text5 = \"If I were a drunk teenager then this movie might be good.\"\n",
        "text6 = \"Bad movie!\"\n",
        "text7 = \"Not a good movie!\"\n",
        "text8 = \"This movie really sucks! Can I get my money back please?\"\n",
        "texts = [text1, text2, text3, text4, text5, text6, text7, text8]"
      ],
      "execution_count": null,
      "outputs": []
    },
    {
      "cell_type": "markdown",
      "metadata": {
        "id": "wUBeG09m013V"
      },
      "source": [
        "We first convert these texts to arrays of integer-tokens because that is needed by the model."
      ]
    },
    {
      "cell_type": "code",
      "metadata": {
        "id": "T33wlK-E013i"
      },
      "source": [
        "### START CODE HERE ###\n",
        "tokens = \n",
        "### END CODE HERE ###\n"
      ],
      "execution_count": null,
      "outputs": []
    },
    {
      "cell_type": "markdown",
      "metadata": {
        "id": "IpLHc76S013i"
      },
      "source": [
        "To input texts with different lengths into the model, we also need to pad and truncate them."
      ]
    },
    {
      "cell_type": "code",
      "metadata": {
        "id": "GMKLoMIN013i"
      },
      "source": [
        "### START CODE HERE ###\n",
        "tokens_pad = \n",
        "### END CODE HERE ###\n",
        "\n",
        "# Print the shape of the tokens_pad\n",
        "### START CODE HERE ###\n",
        "\n",
        "### END CODE HERE ###"
      ],
      "execution_count": null,
      "outputs": []
    },
    {
      "cell_type": "markdown",
      "metadata": {
        "id": "2red0X0B013j"
      },
      "source": [
        "We can now use the trained model to predict the sentiment for these texts."
      ]
    },
    {
      "cell_type": "code",
      "metadata": {
        "id": "I9uBoZ_R013j"
      },
      "source": [
        "### START CODE HERE ###\n",
        "\n",
        "### END CODE HERE ###"
      ],
      "execution_count": null,
      "outputs": []
    },
    {
      "cell_type": "markdown",
      "metadata": {
        "id": "sneyWz2z013j"
      },
      "source": [
        "A value close to 0.0 means a negative sentiment and a value close to 1.0 means a positive sentiment. These numbers will vary every time you train the model."
      ]
    },
    {
      "cell_type": "markdown",
      "metadata": {
        "id": "OlJX2qKV013j"
      },
      "source": [
        "## 8 - Embeddings\n",
        "\n",
        "The model cannot work on integer-tokens directly, because they are integer values that may range between 0 and the number of words in our vocabulary, e.g. 10000. So we need to convert the integer-tokens into vectors of values that are roughly between -1.0 and 1.0 which can be used as input to a neural network.\n",
        "\n",
        "This mapping from integer-tokens to real-valued vectors is also called an \"embedding\". It is essentially just a matrix where each row contains the vector-mapping of a single token. This means we can quickly lookup the mapping of each integer-token by simply using the token as an index into the matrix. The embeddings are learned along with the rest of the model during training.\n",
        "\n",
        "Ideally the embedding would learn a mapping where words that are similar in meaning also have similar embedding-values. Let us investigate if that has happened here.\n",
        "\n",
        "First we need to get the embedding-layer from the model:\n",
        "Use `model.get_layer and pass the name of the layer as parameter"
      ]
    },
    {
      "cell_type": "code",
      "metadata": {
        "id": "w0JxrZ6Y013j"
      },
      "source": [
        "### START CODE HERE ###\n",
        "layer_embedding = \n",
        "### END CODE HERE ###\n"
      ],
      "execution_count": null,
      "outputs": []
    },
    {
      "cell_type": "markdown",
      "metadata": {
        "id": "ZSnHf3Th013j"
      },
      "source": [
        "We can then get the weights used for the mapping done by the embedding-layer.\n",
        "Use `layer_embedding.get_weights()` for a particular index."
      ]
    },
    {
      "cell_type": "code",
      "metadata": {
        "id": "LFWvzLBL013p"
      },
      "source": [
        "### START CODE HERE ###\n",
        "weights_embedding = \n",
        "### END CODE HERE ###\n"
      ],
      "execution_count": null,
      "outputs": []
    },
    {
      "cell_type": "markdown",
      "metadata": {
        "id": "knYEi_RJ013q"
      },
      "source": [
        "Note that the weights are actually just a matrix with the number of words in the vocabulary times the vector length for each embedding. That's because it is basically just a lookup-matrix."
      ]
    },
    {
      "cell_type": "code",
      "metadata": {
        "id": "hhEX7Dq4013q"
      },
      "source": [
        "weights_embedding.shape"
      ],
      "execution_count": null,
      "outputs": []
    },
    {
      "cell_type": "markdown",
      "metadata": {
        "id": "z8o_L8vc013q"
      },
      "source": [
        "Let us get the integer-token for the word 'good', which is just an index into the vocabulary."
      ]
    },
    {
      "cell_type": "code",
      "metadata": {
        "id": "MO5MqTj6013q"
      },
      "source": [
        "token_good = tokenizer.word_index['good']\n",
        "token_good"
      ],
      "execution_count": null,
      "outputs": []
    },
    {
      "cell_type": "markdown",
      "metadata": {
        "id": "OpehDNzL013r"
      },
      "source": [
        "Let us also get the integer-token for the word 'great'."
      ]
    },
    {
      "cell_type": "code",
      "metadata": {
        "id": "S1-MAGnq013s"
      },
      "source": [
        "token_great = tokenizer.word_index['great']\n",
        "token_great"
      ],
      "execution_count": null,
      "outputs": []
    },
    {
      "cell_type": "markdown",
      "metadata": {
        "id": "m4atCYd1013s"
      },
      "source": [
        "These integertokens may be far apart and will depend on the frequency of those words in the data-set.\n",
        "\n",
        "Now let us compare the vector-embeddings for the words 'good' and 'great'. Several of these values are similar, although some values are quite different. Note that these values will change every time you train the model."
      ]
    },
    {
      "cell_type": "code",
      "metadata": {
        "id": "JQAK1e3q013s"
      },
      "source": [
        "weights_embedding[token_good]"
      ],
      "execution_count": null,
      "outputs": []
    },
    {
      "cell_type": "code",
      "metadata": {
        "id": "6aRcm-rA013s"
      },
      "source": [
        "weights_embedding[token_great]"
      ],
      "execution_count": null,
      "outputs": []
    },
    {
      "cell_type": "markdown",
      "metadata": {
        "id": "ySrdUir5013t"
      },
      "source": [
        "Similarly, we can compare the embeddings for the words 'bad' and 'horrible'."
      ]
    },
    {
      "cell_type": "code",
      "metadata": {
        "id": "eCtT3KkK013t"
      },
      "source": [
        "token_bad = tokenizer.word_index['bad']\n",
        "token_horrible = tokenizer.word_index['horrible']"
      ],
      "execution_count": null,
      "outputs": []
    },
    {
      "cell_type": "code",
      "metadata": {
        "id": "WLE_dAxz013t"
      },
      "source": [
        "weights_embedding[token_bad]"
      ],
      "execution_count": null,
      "outputs": []
    },
    {
      "cell_type": "code",
      "metadata": {
        "id": "B5xZIVCz013t"
      },
      "source": [
        "weights_embedding[token_horrible]"
      ],
      "execution_count": null,
      "outputs": []
    },
    {
      "cell_type": "markdown",
      "metadata": {
        "id": "gDLmP1L5013t"
      },
      "source": [
        "### 8.1 - Sorted Words\n",
        "\n",
        "We can also sort all the words in the vocabulary according to their \"similarity\" in the embedding-space. We want to see if words that have similar embedding-vectors also have similar meanings.\n",
        "\n",
        "Similarity of embedding-vectors can be measured by different metrics, e.g. Euclidean distance or cosine distance.\n",
        "\n",
        "We have a helper-function for calculating these distances and printing the words in sorted order."
      ]
    },
    {
      "cell_type": "code",
      "metadata": {
        "id": "4WgFO27q013t"
      },
      "source": [
        "def print_sorted_words(word, metric='cosine'):\n",
        "    \"\"\"\n",
        "    Print the words in the vocabulary sorted according to their\n",
        "    embedding-distance to the given word.\n",
        "    Different metrics can be used, e.g. 'cosine' or 'euclidean'.\n",
        "    \"\"\"\n",
        "\n",
        "    # Get the token (i.e. integer ID) for the given word.\n",
        "    token = tokenizer.word_index[word]\n",
        "\n",
        "    # Get the embedding for the given word. Note that the\n",
        "    # embedding-weight-matrix is indexed by the word-tokens\n",
        "    # which are integer IDs.\n",
        "    embedding = weights_embedding[token]\n",
        "\n",
        "    # Calculate the distance between the embeddings for\n",
        "    # this word and all other words in the vocabulary.\n",
        "    distances = cdist(weights_embedding, [embedding],\n",
        "                      metric=metric).T[0]\n",
        "    \n",
        "    # Get an index sorted according to the embedding-distances.\n",
        "    # These are the tokens (integer IDs) for words in the vocabulary.\n",
        "    sorted_index = np.argsort(distances)\n",
        "    \n",
        "    # Sort the embedding-distances.\n",
        "    sorted_distances = distances[sorted_index]\n",
        "    \n",
        "    # Sort all the words in the vocabulary according to their\n",
        "    # embedding-distance. This is a bit excessive because we\n",
        "    # will only print the top and bottom words.\n",
        "    sorted_words = [inverse_map[token] for token in sorted_index\n",
        "                    if token != 0]\n",
        "\n",
        "    # Helper-function for printing words and embedding-distances.\n",
        "    def _print_words(words, distances):\n",
        "        for word, distance in zip(words, distances):\n",
        "            print(\"{0:.3f} - {1}\".format(distance, word))\n",
        "\n",
        "    # Number of words to print from the top and bottom of the list.\n",
        "    k = 10\n",
        "\n",
        "    print(\"Distance from '{0}':\".format(word))\n",
        "\n",
        "    # Print the words with smallest embedding-distance.\n",
        "    _print_words(sorted_words[0:k], sorted_distances[0:k])\n",
        "\n",
        "    print(\"...\")\n",
        "\n",
        "    # Print the words with highest embedding-distance.\n",
        "    _print_words(sorted_words[-k:], sorted_distances[-k:])"
      ],
      "execution_count": null,
      "outputs": []
    },
    {
      "cell_type": "markdown",
      "metadata": {
        "id": "-F4Cr9tM013u"
      },
      "source": [
        "We can then print the words that are near and far from the word 'great' in terms of their vector-embeddings. Note that these may change each time you train the model."
      ]
    },
    {
      "cell_type": "code",
      "metadata": {
        "scrolled": true,
        "id": "IiwT_ALD013u"
      },
      "source": [
        "print_sorted_words('great', metric='cosine')"
      ],
      "execution_count": null,
      "outputs": []
    },
    {
      "cell_type": "markdown",
      "metadata": {
        "id": "RD5x_Sc1013u"
      },
      "source": [
        "Similarly, we can print the words that are near and far from the word 'worst' in terms of their vector-embeddings."
      ]
    },
    {
      "cell_type": "code",
      "metadata": {
        "scrolled": true,
        "id": "EPYpVEbW013u"
      },
      "source": [
        "print_sorted_words('worst', metric='cosine')"
      ],
      "execution_count": null,
      "outputs": []
    },
    {
      "cell_type": "markdown",
      "metadata": {
        "id": "lKd3wCEI013u"
      },
      "source": [
        "## 9 - Conclusion\n",
        "\n",
        "This exercise showed the basic methods for doing Natural Language Processing (NLP) using a Recurrent Neural Network with integer-tokens and an embedding layer. This was used to do sentiment analysis of movie reviews from IMDB. It works reasonably well if the hyper-parameters are chosen properly. But it is important to understand that this is not human-like comprehension of text. The system does not have any real understanding of the text. It is just a clever way of doing pattern-recognition."
      ]
    }
  ]
}